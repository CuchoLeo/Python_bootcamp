{
 "cells": [
  {
   "cell_type": "markdown",
   "id": "b47d503f",
   "metadata": {},
   "source": [
    "## GitHub\n",
    "<https://docs.github.com/en/get-started/quickstart/hello-world>  \n",
    "    > Crear repo desde 0\n",
    "<https://github.com/Pierian-Data/Complete-Python-3-Bootcamp.git>"
   ]
  },
  {
   "cell_type": "markdown",
   "id": "6f876ec5",
   "metadata": {},
   "source": [
    "### Modulo or \"mod\"Operator (Resto de division) % "
   ]
  },
  {
   "cell_type": "code",
   "execution_count": 1,
   "id": "f4eaaa43",
   "metadata": {
    "scrolled": true
   },
   "outputs": [
    {
     "data": {
      "text/plain": [
       "0"
      ]
     },
     "execution_count": 1,
     "metadata": {},
     "output_type": "execute_result"
    }
   ],
   "source": [
    "20%2"
   ]
  },
  {
   "cell_type": "code",
   "execution_count": 2,
   "id": "8364d058",
   "metadata": {},
   "outputs": [
    {
     "data": {
      "text/plain": [
       "11.5"
      ]
     },
     "execution_count": 2,
     "metadata": {},
     "output_type": "execute_result"
    }
   ],
   "source": [
    "23/2"
   ]
  },
  {
   "cell_type": "code",
   "execution_count": 3,
   "id": "fc613112",
   "metadata": {},
   "outputs": [
    {
     "data": {
      "text/plain": [
       "1"
      ]
     },
     "execution_count": 3,
     "metadata": {},
     "output_type": "execute_result"
    }
   ],
   "source": [
    "23%2"
   ]
  },
  {
   "cell_type": "code",
   "execution_count": 4,
   "id": "44dde203",
   "metadata": {},
   "outputs": [
    {
     "data": {
      "text/plain": [
       "10.0"
      ]
     },
     "execution_count": 4,
     "metadata": {},
     "output_type": "execute_result"
    }
   ],
   "source": [
    "20/2"
   ]
  },
  {
   "cell_type": "markdown",
   "id": "2e697f41",
   "metadata": {},
   "source": [
    "### Flotante \n",
    "<https://docs.python.org/2/tutorial/floatingpoint.html>"
   ]
  },
  {
   "cell_type": "code",
   "execution_count": 5,
   "id": "e65750ef",
   "metadata": {},
   "outputs": [
    {
     "data": {
      "text/plain": [
       "0.125"
      ]
     },
     "execution_count": 5,
     "metadata": {},
     "output_type": "execute_result"
    }
   ],
   "source": [
    "1/10 + 2/100 + 5/1000"
   ]
  }
 ],
 "metadata": {
  "kernelspec": {
   "display_name": "Python 3 (ipykernel)",
   "language": "python",
   "name": "python3"
  },
  "language_info": {
   "codemirror_mode": {
    "name": "ipython",
    "version": 3
   },
   "file_extension": ".py",
   "mimetype": "text/x-python",
   "name": "python",
   "nbconvert_exporter": "python",
   "pygments_lexer": "ipython3",
   "version": "3.9.7"
  }
 },
 "nbformat": 4,
 "nbformat_minor": 5
}
